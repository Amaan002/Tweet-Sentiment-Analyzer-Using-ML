{
  "nbformat": 4,
  "nbformat_minor": 0,
  "metadata": {
    "colab": {
      "provenance": []
    },
    "kernelspec": {
      "name": "python3",
      "display_name": "Python 3"
    },
    "language_info": {
      "name": "python"
    }
  },
  "cells": [
    {
      "cell_type": "code",
      "execution_count": null,
      "metadata": {
        "id": "3m4gx-rm4Bef"
      },
      "outputs": [],
      "source": [
        "import joblib"
      ]
    },
    {
      "cell_type": "code",
      "source": [
        "import re"
      ],
      "metadata": {
        "id": "dJjrHk1k4HcH"
      },
      "execution_count": null,
      "outputs": []
    },
    {
      "cell_type": "code",
      "source": [
        "model = joblib.load('sentiment_analyzing_model.pkl')"
      ],
      "metadata": {
        "id": "ri8vtfHU4Nz6"
      },
      "execution_count": null,
      "outputs": []
    },
    {
      "cell_type": "code",
      "source": [
        "vectorizer = joblib.load('sa_vectorizer.pkl')"
      ],
      "metadata": {
        "id": "YesiLLbD4WuX"
      },
      "execution_count": null,
      "outputs": []
    },
    {
      "cell_type": "code",
      "source": [
        "def preprocess_text(text):\n",
        "  if not isinstance(text,str):\n",
        "    raise ValueError(f\"Expected a string, got {type(text)}\")\n",
        "  text = re.sub(r'http\\S+','',text)\n",
        "  text = re.sub(r'@\\w+','',text)\n",
        "  text = re.sub(r'#','',text)\n",
        "  text = re.sub(r'[^\\w\\s]','',text)\n",
        "  return text.lower()"
      ],
      "metadata": {
        "id": "Bkl0X_sc4lsr"
      },
      "execution_count": null,
      "outputs": []
    },
    {
      "cell_type": "code",
      "source": [
        "def analyze_tweets(tweets):\n",
        "  for tweet in tweets:\n",
        "    enhanced_tweets = preprocess_text(tweets)\n",
        "    X_tweet = vectorizer.transform([enhanced_tweets])\n",
        "    predicted_class = model.predict(X_tweet)\n",
        "    sentiment = ['Negative','Positive'][predicted_class[0]]\n",
        "  return sentiment"
      ],
      "metadata": {
        "id": "RReS-5GS5KOH"
      },
      "execution_count": null,
      "outputs": []
    },
    {
      "cell_type": "code",
      "source": [
        "tweets = [\n",
        "    \"Today is a very beautiful day! #wonderfulday\",\n",
        "    \"@Elon Musk go to hell! #evilcorporationowner\",\n",
        "    \"I love Biryani #FeelingHungry\",\n",
        "    \"Hi Everyone\",\n",
        "    \"Say no to MC Donald's Burger #Unhealthy\",\n",
        "    \"Free Palestine #freepalestine\"\n",
        "  ]\n",
        "\n",
        "for tweet in tweets:\n",
        "  results = analyze_tweets(tweet)\n",
        "  print(f\"Tweet:{tweet}\")\n",
        "  print(f\"Predicted Sentiment: {results}\")\n",
        "  print('_'*50)"
      ],
      "metadata": {
        "colab": {
          "base_uri": "https://localhost:8080/"
        },
        "id": "MQI46k8g6AVV",
        "outputId": "77c2e818-98d6-421c-ea6f-c8a653a8951c"
      },
      "execution_count": null,
      "outputs": [
        {
          "output_type": "stream",
          "name": "stdout",
          "text": [
            "Tweet:Today is a very beautiful day! #wonderfulday\n",
            "Predicted Sentiment: Positive\n",
            "__________________________________________________\n",
            "Tweet:@Elon Musk go to hell! #evilcorporationowner\n",
            "Predicted Sentiment: Negative\n",
            "__________________________________________________\n",
            "Tweet:I love Biryani #FeelingHungry\n",
            "Predicted Sentiment: Positive\n",
            "__________________________________________________\n",
            "Tweet:Hi Everyone\n",
            "Predicted Sentiment: Positive\n",
            "__________________________________________________\n",
            "Tweet:Say no to MC Donald's Burger #Unhealthy\n",
            "Predicted Sentiment: Negative\n",
            "__________________________________________________\n",
            "Tweet:Free Palestine #freepalestine\n",
            "Predicted Sentiment: Positive\n",
            "__________________________________________________\n"
          ]
        }
      ]
    },
    {
      "cell_type": "code",
      "source": [],
      "metadata": {
        "id": "EhQFA4bs69rf"
      },
      "execution_count": null,
      "outputs": []
    }
  ]
}